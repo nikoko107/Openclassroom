{
  "nbformat": 4,
  "nbformat_minor": 0,
  "metadata": {
    "colab": {
      "name": "UntAnalysez des données de systèmes éducatifs.ipynb",
      "provenance": [],
      "toc_visible": true,
      "mount_file_id": "1fgbl7jZCFnQn28FO70dMqIyNXsXIEWZ2",
      "authorship_tag": "ABX9TyPadVvRwRuWo8DCPWXqbVdw",
      "include_colab_link": true
    },
    "kernelspec": {
      "name": "python3",
      "display_name": "Python 3"
    }
  },
  "cells": [
    {
      "cell_type": "markdown",
      "metadata": {
        "id": "view-in-github",
        "colab_type": "text"
      },
      "source": [
        "<a href=\"https://colab.research.google.com/github/nikoko107/Openclassroom/blob/master/UntAnalysez_des_donn%C3%A9es_de_syst%C3%A8mes_%C3%A9ducatifs.ipynb\" target=\"_parent\"><img src=\"https://colab.research.google.com/assets/colab-badge.svg\" alt=\"Open In Colab\"/></a>"
      ]
    },
    {
      "cell_type": "markdown",
      "metadata": {
        "id": "UIy1Sw1wYKNW"
      },
      "source": [
        "#**Analysez des données de systèmes éducatifs** *texte en italique*"
      ]
    },
    {
      "cell_type": "markdown",
      "metadata": {
        "id": "i5fA98ODWuV6"
      },
      "source": [
        "\r\n",
        "##**Résumé**\r\n",
        "\r\n",
        "Analyser les données sur l'education disponible sur le site de la banque mondial et documenter les possibles utilisation pour orienter l'expension dans de nouveaux pays d'une entreprise specialisé dans la formation niveau lycé et universitée.\r\n",
        "\r\n",
        "##**Réponses à apporter:**\r\n",
        "\r\n",
        "\r\n",
        "* Valider la qualité de ce jeu de données (comporte-t-il beaucoup de données manquantes, dupliquées ?)\r\n",
        "* Décrire les informations contenues dans le jeu de données (nombre de colonnes ? nombre de lignes ?)\r\n",
        "* Sélectionner les informations qui semblent pertinentes pour répondre à la problématique (quelles sont les colonnes contenant des informations qui peuvent être utiles pour répondre à la problématique de l’entreprise ?)\r\n",
        "* Déterminer des ordres de grandeurs des indicateurs statistiques classiques pour les différentes zones géographiques et pays du monde (moyenne/médiane/écart-type par pays et par continent ou bloc géographique)\r\n",
        "\r\n",
        "##**Type de livrable:**\r\n",
        "\r\n",
        "* Un notebook avec les analyses\r\n",
        "* Une Presentation avec graph\r\n",
        "\r\n",
        "**Soigner la présentation et de l'illustrer avec des graphiques pertinents et lisibles !**\r\n",
        "\r\n",
        "\r\n",
        "\r\n"
      ]
    },
    {
      "cell_type": "markdown",
      "metadata": {
        "id": "vpiTxQ49YaQZ"
      },
      "source": [
        "##**Cours**"
      ]
    },
    {
      "cell_type": "markdown",
      "metadata": {
        "id": "5GaMyK2TYgFw"
      },
      "source": [
        "##**Initiez-vous à python pour l'analyse de données**\r\n",
        "*texte en italique*\r\n",
        "* Mettre en place votre environnement de travail Python\r\n",
        "* Manipuler les fonctions et objets fondamentaux\r\n",
        "* Structurer votre code au sein d’un projet\r\n",
        "* Utiliser des librairies Python spécialisées\r\n",
        "\r\n"
      ]
    },
    {
      "cell_type": "markdown",
      "metadata": {
        "id": "0SIvpQWGeUFX"
      },
      "source": [
        "## idées de bases\r\n",
        "\r\n",
        "* ordinateur + connexion internet\r\n",
        "* langue utilisé"
      ]
    },
    {
      "cell_type": "markdown",
      "metadata": {
        "id": "Z7lKcC58a5k4"
      },
      "source": [
        "* Utilisation du markdonw pour annoter les notebooks\r\n",
        "* Les différents types de variable : int , float , string\r\n",
        "* Les fonctions : Nom + paramètres\r\n",
        "\r\n",
        "\r\n",
        "* Orienté Objet : Classes attributs et methodes\r\n",
        "* Tableaux : listes et dictionnaires\r\n",
        "** une liste [] est une collection d'objet dont la position est ordonnée de 0 à x\r\n",
        "** un dictionnaire {} est une association clé / valeur\r\n",
        "* Les structure condtionneles : if elif else\r\n",
        "* Les boucles : for in ; while\r\n",
        "* Instruction au sein du boucle : continue et break"
      ]
    },
    {
      "cell_type": "markdown",
      "metadata": {
        "id": "12VUS_oLlDMJ"
      },
      "source": [
        "## **Info Externes**"
      ]
    },
    {
      "cell_type": "markdown",
      "metadata": {
        "id": "E-sXoXnvlP1h"
      },
      "source": [
        "### **Utilisation de colab**\r\n"
      ]
    },
    {
      "cell_type": "markdown",
      "metadata": {
        "id": "Fe9d61KdlKjK"
      },
      "source": [
        "Import d'un fichier depuis le drive :\r\n",
        "installer drive dans colab  àpartir de la barre de fichier à gauche.\r\n",
        "\r\n",
        "Exemple de code avec *pandas* pour lire un csv présent dans le drive :\r\n"
      ]
    },
    {
      "cell_type": "code",
      "metadata": {
        "colab": {
          "base_uri": "https://localhost:8080/"
        },
        "id": "AtOrrgZOWkuO",
        "outputId": "ad949203-951e-4798-f812-29155b55dd5c"
      },
      "source": [
        "import pandas as pd\r\n",
        "\r\n",
        "df=pd.read_csv('/content/drive/MyDrive/Openclassrooms/P2/Data/EdStatsCountry.csv')\r\n",
        "df.values"
      ],
      "execution_count": null,
      "outputs": [
        {
          "output_type": "execute_result",
          "data": {
            "text/plain": [
              "array([['ABW', 'Aruba', 'Aruba', ..., 2012.0, nan, nan],\n",
              "       ['AFG', 'Afghanistan', 'Afghanistan', ..., 2012.0, '2000', nan],\n",
              "       ['AGO', 'Angola', 'Angola', ..., nan, '2005', nan],\n",
              "       ...,\n",
              "       ['ZAF', 'South Africa', 'South Africa', ..., 2012.0, '2000', nan],\n",
              "       ['ZMB', 'Zambia', 'Zambia', ..., 2011.0, '2002', nan],\n",
              "       ['ZWE', 'Zimbabwe', 'Zimbabwe', ..., 2012.0, '2002', nan]],\n",
              "      dtype=object)"
            ]
          },
          "metadata": {
            "tags": []
          },
          "execution_count": 3
        }
      ]
    },
    {
      "cell_type": "markdown",
      "metadata": {
        "id": "clKYi575o_H0"
      },
      "source": [
        "Ecrire un csv :"
      ]
    },
    {
      "cell_type": "code",
      "metadata": {
        "colab": {
          "base_uri": "https://localhost:8080/"
        },
        "id": "qrsz1n8-pDFP",
        "outputId": "e5ca11b6-7839-4280-a8ca-0ca64c4b0174"
      },
      "source": [
        "\r\n",
        "df.to_csv('/content/drive/MyDrive/Openclassrooms/P2/Data/Test.csv')\r\n",
        "\r\n",
        "df=pd.read_csv('/content/drive/MyDrive/Openclassrooms/P2/Data/Test.csv')\r\n",
        "df.values"
      ],
      "execution_count": null,
      "outputs": [
        {
          "output_type": "execute_result",
          "data": {
            "text/plain": [
              "array([[0, 'ABW', 'Aruba', ..., 2012.0, nan, nan],\n",
              "       [1, 'AFG', 'Afghanistan', ..., 2012.0, '2000', nan],\n",
              "       [2, 'AGO', 'Angola', ..., nan, '2005', nan],\n",
              "       ...,\n",
              "       [238, 'ZAF', 'South Africa', ..., 2012.0, '2000', nan],\n",
              "       [239, 'ZMB', 'Zambia', ..., 2011.0, '2002', nan],\n",
              "       [240, 'ZWE', 'Zimbabwe', ..., 2012.0, '2002', nan]], dtype=object)"
            ]
          },
          "metadata": {
            "tags": []
          },
          "execution_count": 5
        }
      ]
    }
  ]
}